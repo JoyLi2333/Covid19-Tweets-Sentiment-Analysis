{
 "cells": [
  {
   "cell_type": "markdown",
   "metadata": {},
   "source": [
    "Data Source: [Coronavirus tweets data](https://www.kaggle.com/datatattle/covid-19-nlp-text-classification) (sentiment analysis)."
   ]
  },
  {
   "cell_type": "markdown",
   "metadata": {},
   "source": [
    "### 0. Packages and general settings"
   ]
  },
  {
   "cell_type": "code",
   "execution_count": 1,
   "metadata": {},
   "outputs": [],
   "source": [
    "# General purpose\n",
    "import pandas as pd\n",
    "import numpy as np\n",
    "import math\n",
    "from sklearn.metrics import confusion_matrix\n",
    "from sklearn.metrics import classification_report\n",
    "\n",
    "# Data preprocessing\n",
    "import re\n",
    "import emoji\n",
    "import nltk\n",
    "from nltk.corpus import stopwords\n",
    "from nltk.tokenize import TweetTokenizer\n",
    "\n",
    "# LSTM\n",
    "import torch\n",
    "import torch.nn as nn\n",
    "import torch.nn.functional as F\n",
    "import torchtext\n",
    "import time\n",
    "# import random"
   ]
  },
  {
   "cell_type": "code",
   "execution_count": 2,
   "metadata": {},
   "outputs": [],
   "source": [
    "# DistillBert\n",
    "#import transformers\n",
    "from transformers import DistilBertTokenizerFast\n",
    "from transformers import DistilBertForSequenceClassification"
   ]
  },
  {
   "cell_type": "code",
   "execution_count": 3,
   "metadata": {},
   "outputs": [
    {
     "data": {
      "text/plain": [
       "<Figure size 432x288 with 0 Axes>"
      ]
     },
     "metadata": {},
     "output_type": "display_data"
    }
   ],
   "source": [
    "# Plotting\n",
    "import matplotlib.pyplot as plt\n",
    "import seaborn as sns\n",
    "\n",
    "sns.set_style('whitegrid')\n",
    "sns.despine()\n",
    "plt.style.use('seaborn-whitegrid')\n",
    "plt.rc('figure', autolayout=True)\n",
    "plt.rc('axes', labelweight='bold', labelsize='large', titleweight='bold', titlepad=10)"
   ]
  },
  {
   "cell_type": "markdown",
   "metadata": {},
   "source": [
    "General Settings"
   ]
  },
  {
   "cell_type": "code",
   "execution_count": 4,
   "metadata": {},
   "outputs": [],
   "source": [
    "RANDOM_SEED = 123456\n",
    "torch.manual_seed(RANDOM_SEED)\n",
    "\n",
    "VOCABULARY_SIZE = 10000\n",
    "LEARNING_RATE = 0.002\n",
    "BATCH_SIZE_RNN = 32\n",
    "BATCH_SIZE_BERT = 16 # due to the memory limit\n",
    "NUM_EPOCHS_RNN = 10\n",
    "NUM_EPOCHS_BERT = 5\n",
    "DEVICE = torch.device('cuda:0' if torch.cuda.is_available() else 'cpu')\n",
    "\n",
    "EMBEDDING_DIM = 128\n",
    "HIDDEN_DIM = 256\n",
    "NUM_CLASSES = 5"
   ]
  },
  {
   "cell_type": "code",
   "execution_count": 5,
   "metadata": {},
   "outputs": [
    {
     "name": "stdout",
     "output_type": "stream",
     "text": [
      "cuda:0\n",
      "1.10.1+cu113\n"
     ]
    }
   ],
   "source": [
    "print(DEVICE)\n",
    "print(torch.__version__)"
   ]
  },
  {
   "cell_type": "markdown",
   "metadata": {},
   "source": [
    "### 1. Load Data & Preprocessing"
   ]
  },
  {
   "cell_type": "code",
   "execution_count": 6,
   "metadata": {},
   "outputs": [
    {
     "name": "stdout",
     "output_type": "stream",
     "text": [
      "Shape of the training set: (41157, 6) \n",
      "Shape of the test set: (3798, 6)\n"
     ]
    }
   ],
   "source": [
    "df_tr = pd.read_csv('Corona_NLP_train.csv', encoding='latin-1')\n",
    "df_te = pd.read_csv('Corona_NLP_test.csv', encoding='latin-1')\n",
    "print('Shape of the training set:', df_tr.shape, '\\nShape of the test set:', df_te.shape)"
   ]
  },
  {
   "cell_type": "code",
   "execution_count": 7,
   "metadata": {},
   "outputs": [
    {
     "data": {
      "text/html": [
       "<div>\n",
       "<style scoped>\n",
       "    .dataframe tbody tr th:only-of-type {\n",
       "        vertical-align: middle;\n",
       "    }\n",
       "\n",
       "    .dataframe tbody tr th {\n",
       "        vertical-align: top;\n",
       "    }\n",
       "\n",
       "    .dataframe thead th {\n",
       "        text-align: right;\n",
       "    }\n",
       "</style>\n",
       "<table border=\"1\" class=\"dataframe\">\n",
       "  <thead>\n",
       "    <tr style=\"text-align: right;\">\n",
       "      <th></th>\n",
       "      <th>UserName</th>\n",
       "      <th>ScreenName</th>\n",
       "      <th>Location</th>\n",
       "      <th>TweetAt</th>\n",
       "      <th>OriginalTweet</th>\n",
       "      <th>Sentiment</th>\n",
       "    </tr>\n",
       "  </thead>\n",
       "  <tbody>\n",
       "    <tr>\n",
       "      <th>0</th>\n",
       "      <td>3799</td>\n",
       "      <td>48751</td>\n",
       "      <td>London</td>\n",
       "      <td>16-03-2020</td>\n",
       "      <td>@MeNyrbie @Phil_Gahan @Chrisitv https://t.co/i...</td>\n",
       "      <td>Neutral</td>\n",
       "    </tr>\n",
       "    <tr>\n",
       "      <th>1</th>\n",
       "      <td>3800</td>\n",
       "      <td>48752</td>\n",
       "      <td>UK</td>\n",
       "      <td>16-03-2020</td>\n",
       "      <td>advice Talk to your neighbours family to excha...</td>\n",
       "      <td>Positive</td>\n",
       "    </tr>\n",
       "    <tr>\n",
       "      <th>2</th>\n",
       "      <td>3801</td>\n",
       "      <td>48753</td>\n",
       "      <td>Vagabonds</td>\n",
       "      <td>16-03-2020</td>\n",
       "      <td>Coronavirus Australia: Woolworths to give elde...</td>\n",
       "      <td>Positive</td>\n",
       "    </tr>\n",
       "  </tbody>\n",
       "</table>\n",
       "</div>"
      ],
      "text/plain": [
       "   UserName  ScreenName   Location     TweetAt  \\\n",
       "0      3799       48751     London  16-03-2020   \n",
       "1      3800       48752         UK  16-03-2020   \n",
       "2      3801       48753  Vagabonds  16-03-2020   \n",
       "\n",
       "                                       OriginalTweet Sentiment  \n",
       "0  @MeNyrbie @Phil_Gahan @Chrisitv https://t.co/i...   Neutral  \n",
       "1  advice Talk to your neighbours family to excha...  Positive  \n",
       "2  Coronavirus Australia: Woolworths to give elde...  Positive  "
      ]
     },
     "execution_count": 7,
     "metadata": {},
     "output_type": "execute_result"
    }
   ],
   "source": [
    "df_tr.head(3)"
   ]
  },
  {
   "cell_type": "code",
   "execution_count": 8,
   "metadata": {},
   "outputs": [
    {
     "name": "stdout",
     "output_type": "stream",
     "text": [
      "<class 'pandas.core.frame.DataFrame'>\n",
      "RangeIndex: 41157 entries, 0 to 41156\n",
      "Data columns (total 6 columns):\n",
      " #   Column         Non-Null Count  Dtype \n",
      "---  ------         --------------  ----- \n",
      " 0   UserName       41157 non-null  int64 \n",
      " 1   ScreenName     41157 non-null  int64 \n",
      " 2   Location       32567 non-null  object\n",
      " 3   TweetAt        41157 non-null  object\n",
      " 4   OriginalTweet  41157 non-null  object\n",
      " 5   Sentiment      41157 non-null  object\n",
      "dtypes: int64(2), object(4)\n",
      "memory usage: 1.9+ MB\n"
     ]
    }
   ],
   "source": [
    "df_tr.info()"
   ]
  },
  {
   "cell_type": "code",
   "execution_count": 9,
   "metadata": {},
   "outputs": [],
   "source": [
    "# nltk.download()\n",
    "stopwords = nltk.corpus.stopwords.words('english')\n",
    "\n",
    "def senti_to_int(x):\n",
    "    if x == 'Extremely Negative':\n",
    "        return 0\n",
    "    if x == 'Negative':\n",
    "        return 1\n",
    "    if x == 'Neutral':\n",
    "        return 2\n",
    "    if x == 'Positive':\n",
    "        return 3\n",
    "    else:\n",
    "        return 4\n",
    "\n",
    "df_tr['Sentiment'] = df_tr['Sentiment'].apply(lambda x: senti_to_int(x))\n",
    "df_te['Sentiment'] = df_te['Sentiment'].apply(lambda x: senti_to_int(x))\n",
    "#df_tr['Sentiment'] = df_tr['Sentiment'].map({'Extremely Negative':0,'Negative':1,\n",
    "#                                    'Neutral':2,'Positive':3,'Extremely Positive':4})\n",
    "#df_te['Sentiment'] = df_te['Sentiment'].map({'Extremely Negative':0,'Negative':1,\n",
    "#                                    'Neutral':2,'Positive':3,'Extremely Positive':4})"
   ]
  },
  {
   "cell_type": "code",
   "execution_count": 10,
   "metadata": {},
   "outputs": [],
   "source": [
    "def preprocess(df, text, keyword):\n",
    "    tokenizer = TweetTokenizer(preserve_case=False, strip_handles=True, reduce_len=True)\n",
    "    processed_text = []\n",
    "    #stopWords = stopwords.words(\"english\")\n",
    "    for tweet, keyword in zip(df[text], df[keyword]):\n",
    "        tweet_clean = []\n",
    "        # remove hyperlinks\n",
    "        tweet = re.sub(r'http\\S+', '', tweet)\n",
    "        # remove hashtags and mentions\n",
    "        tweet = re.sub(r'\\.{3}|@|#', '', tweet)\n",
    "        # remove none alphanumeric and aposthrope\n",
    "        tweet = \"\".join(re.sub(\"([^0-9A-Za-z \\t'])\",\" \", tweet))\n",
    "        # remove junk characters which don't have an ascii code\n",
    "        tweet = tweet.encode(\"ascii\", \"ignore\").decode(\"utf-8\", \"ignore\")\n",
    "        # remove emojis\n",
    "        tweet = \"\".join(c for c in tweet if c not in emoji.UNICODE_EMOJI)\n",
    "        # tokenize tweets\n",
    "        tweet_tokens = tokenizer.tokenize(tweet)\n",
    "        for word in tweet_tokens:\n",
    "            tweet_clean.append(word)\n",
    "        processed_text.append(\" \".join(tweet_clean))\n",
    "    df['CleanTweet'] = np.array(processed_text)"
   ]
  },
  {
   "cell_type": "code",
   "execution_count": 11,
   "metadata": {},
   "outputs": [],
   "source": [
    "preprocess(df_tr, 'OriginalTweet','ScreenName')\n",
    "preprocess(df_te, 'OriginalTweet','ScreenName')"
   ]
  },
  {
   "cell_type": "code",
   "execution_count": 12,
   "metadata": {},
   "outputs": [
    {
     "data": {
      "text/html": [
       "<div>\n",
       "<style scoped>\n",
       "    .dataframe tbody tr th:only-of-type {\n",
       "        vertical-align: middle;\n",
       "    }\n",
       "\n",
       "    .dataframe tbody tr th {\n",
       "        vertical-align: top;\n",
       "    }\n",
       "\n",
       "    .dataframe thead th {\n",
       "        text-align: right;\n",
       "    }\n",
       "</style>\n",
       "<table border=\"1\" class=\"dataframe\">\n",
       "  <thead>\n",
       "    <tr style=\"text-align: right;\">\n",
       "      <th></th>\n",
       "      <th>UserName</th>\n",
       "      <th>ScreenName</th>\n",
       "      <th>Location</th>\n",
       "      <th>TweetAt</th>\n",
       "      <th>OriginalTweet</th>\n",
       "      <th>Sentiment</th>\n",
       "      <th>CleanTweet</th>\n",
       "    </tr>\n",
       "  </thead>\n",
       "  <tbody>\n",
       "    <tr>\n",
       "      <th>0</th>\n",
       "      <td>3799</td>\n",
       "      <td>48751</td>\n",
       "      <td>London</td>\n",
       "      <td>16-03-2020</td>\n",
       "      <td>@MeNyrbie @Phil_Gahan @Chrisitv https://t.co/i...</td>\n",
       "      <td>2</td>\n",
       "      <td>menyrbie phil gahan chrisitv and and</td>\n",
       "    </tr>\n",
       "    <tr>\n",
       "      <th>1</th>\n",
       "      <td>3800</td>\n",
       "      <td>48752</td>\n",
       "      <td>UK</td>\n",
       "      <td>16-03-2020</td>\n",
       "      <td>advice Talk to your neighbours family to excha...</td>\n",
       "      <td>3</td>\n",
       "      <td>advice talk to your neighbours family to excha...</td>\n",
       "    </tr>\n",
       "    <tr>\n",
       "      <th>2</th>\n",
       "      <td>3801</td>\n",
       "      <td>48753</td>\n",
       "      <td>Vagabonds</td>\n",
       "      <td>16-03-2020</td>\n",
       "      <td>Coronavirus Australia: Woolworths to give elde...</td>\n",
       "      <td>3</td>\n",
       "      <td>coronavirus australia woolworths to give elder...</td>\n",
       "    </tr>\n",
       "  </tbody>\n",
       "</table>\n",
       "</div>"
      ],
      "text/plain": [
       "   UserName  ScreenName   Location     TweetAt  \\\n",
       "0      3799       48751     London  16-03-2020   \n",
       "1      3800       48752         UK  16-03-2020   \n",
       "2      3801       48753  Vagabonds  16-03-2020   \n",
       "\n",
       "                                       OriginalTweet  Sentiment  \\\n",
       "0  @MeNyrbie @Phil_Gahan @Chrisitv https://t.co/i...          2   \n",
       "1  advice Talk to your neighbours family to excha...          3   \n",
       "2  Coronavirus Australia: Woolworths to give elde...          3   \n",
       "\n",
       "                                          CleanTweet  \n",
       "0               menyrbie phil gahan chrisitv and and  \n",
       "1  advice talk to your neighbours family to excha...  \n",
       "2  coronavirus australia woolworths to give elder...  "
      ]
     },
     "execution_count": 12,
     "metadata": {},
     "output_type": "execute_result"
    }
   ],
   "source": [
    "df_tr.head(3)"
   ]
  },
  {
   "cell_type": "markdown",
   "metadata": {},
   "source": [
    "Plot the distribution of the five classes"
   ]
  },
  {
   "cell_type": "code",
   "execution_count": 13,
   "metadata": {},
   "outputs": [],
   "source": [
    "# Bar plot\n",
    "def plotBar(df, feature, title):\n",
    "    plt.figure(figsize=(7,4))\n",
    "    ax = sns.countplot(x=feature, data=df, palette='mako')\n",
    "    plt.title(title)\n",
    "    plt.yticks([])\n",
    "    ax.bar_label(ax.containers[0])\n",
    "    plt.ylabel('count')\n",
    "    plt.xlabel('')\n",
    "    plt.show()"
   ]
  },
  {
   "cell_type": "code",
   "execution_count": 14,
   "metadata": {},
   "outputs": [
    {
     "data": {
      "image/png": "[encoded data removed]",
      "text/plain": [
       "<Figure size 504x288 with 1 Axes>"
      ]
     },
     "metadata": {},
     "output_type": "display_data"
    },
    {
     "data": {
      "image/png": "[encoded data removed]",
      "text/plain": [
       "<Figure size 504x288 with 1 Axes>"
      ]
     },
     "metadata": {},
     "output_type": "display_data"
    },
    {
     "data": {
      "image/png": "[encoded data removed]",
      "text/plain": [
       "<Figure size 504x288 with 1 Axes>"
      ]
     },
     "metadata": {},
     "output_type": "display_data"
    },
    {
     "data": {
      "image/png": "[encoded data removed]",
      "text/plain": [
       "<Figure size 504x288 with 1 Axes>"
      ]
     },
     "metadata": {},
     "output_type": "display_data"
    }
   ],
   "source": [
    "# length of the processed tweet\n",
    "df_tr[\"CleanTweet_len\"] = df_tr[\"CleanTweet\"].apply(lambda row: len(row.split()))\n",
    "df_te[\"CleanTweet_len\"] = df_te[\"CleanTweet\"].apply(lambda row: len(row.split()))\n",
    "plotBar(df_tr, 'CleanTweet_len', 'Training tweets length distribution')\n",
    "plotBar(df_tr[df_tr['CleanTweet_len']<10], 'CleanTweet_len', 'Training tweets with less than 10 words')\n",
    "\n",
    "plotBar(df_te, 'CleanTweet_len', 'Training tweets length distribution')\n",
    "plotBar(df_te[df_te['CleanTweet_len']<10], 'CleanTweet_len', 'Training tweets with less than 10 words')"
   ]
  },
  {
   "cell_type": "code",
   "execution_count": 15,
   "metadata": {},
   "outputs": [],
   "source": [
    "# Drop the tweets that has less than or equal to 2 words\n",
    "df_tr = df_tr[df_tr['CleanTweet_len'] > 2]\n",
    "df_te = df_te[df_te['CleanTweet_len'] > 2]"
   ]
  },
  {
   "cell_type": "code",
   "execution_count": 16,
   "metadata": {},
   "outputs": [
    {
     "data": {
      "image/png": "[encoded data removed]",
      "text/plain": [
       "<Figure size 504x288 with 1 Axes>"
      ]
     },
     "metadata": {},
     "output_type": "display_data"
    },
    {
     "data": {
      "image/png": "[encoded data removed]",
      "text/plain": [
       "<Figure size 504x288 with 1 Axes>"
      ]
     },
     "metadata": {},
     "output_type": "display_data"
    }
   ],
   "source": [
    "plotBar(df_tr, 'Sentiment', 'Training class distribution')\n",
    "plotBar(df_te, 'Sentiment', 'Test class distribution')"
   ]
  },
  {
   "cell_type": "markdown",
   "metadata": {},
   "source": [
    "From the above two plots we can see that both the training set and the test set are not too imbalanced."
   ]
  },
  {
   "cell_type": "code",
   "execution_count": 17,
   "metadata": {},
   "outputs": [
    {
     "name": "stdout",
     "output_type": "stream",
     "text": [
      "(37010, 2) (4112, 2)\n",
      "(3796, 2)\n"
     ]
    }
   ],
   "source": [
    "# Train / validation split\n",
    "data_tr_val = df_tr[['CleanTweet', 'Sentiment']]\n",
    "data_tr_val = data_tr_val.sample(frac=1) # random shuffling\n",
    "data_tr = data_tr_val.iloc[:math.ceil(df_tr.shape[0] * 0.9)]\n",
    "data_val = data_tr_val.iloc[math.ceil(df_tr.shape[0] * 0.9):]\n",
    "print(data_tr.shape, data_val.shape)\n",
    "\n",
    "data_te = df_te[['CleanTweet', 'Sentiment']]\n",
    "print(data_te.shape)"
   ]
  },
  {
   "cell_type": "code",
   "execution_count": 18,
   "metadata": {},
   "outputs": [],
   "source": [
    "data_tr.to_csv('train_data.csv', index=None)\n",
    "data_val.to_csv('val_data.csv', index=None)\n",
    "data_te.to_csv('test_data.csv', index=None)"
   ]
  },
  {
   "cell_type": "code",
   "execution_count": 19,
   "metadata": {},
   "outputs": [],
   "source": [
    "del df_tr, df_te, data_tr_val"
   ]
  },
  {
   "cell_type": "markdown",
   "metadata": {},
   "source": [
    "### 2. RNN, LSTM, and Bidirectional LSTM\n",
    "Prepare dataloaders"
   ]
  },
  {
   "cell_type": "code",
   "execution_count": 20,
   "metadata": {},
   "outputs": [],
   "source": [
    "TEXT = torchtext.legacy.data.Field(\n",
    "    tokenize='spacy',\n",
    "    tokenizer_language='en_core_web_sm',\n",
    ")\n",
    "LABEL = torchtext.legacy.data.LabelField(dtype=torch.long)"
   ]
  },
  {
   "cell_type": "code",
   "execution_count": 21,
   "metadata": {},
   "outputs": [],
   "source": [
    "fields = [('CleanTweet', TEXT), ('Sentiment', LABEL)]\n",
    "\n",
    "train_data = torchtext.legacy.data.TabularDataset(\n",
    "    path='train_data.csv', format='csv',\n",
    "    skip_header=True, fields=fields)\n",
    "\n",
    "valid_data = torchtext.legacy.data.TabularDataset(\n",
    "    path='val_data.csv', format='csv',\n",
    "    skip_header=True, fields=fields)\n",
    "\n",
    "test_data = torchtext.legacy.data.TabularDataset(\n",
    "    path='test_data.csv', format='csv',\n",
    "    skip_header=True, fields=fields)"
   ]
  },
  {
   "cell_type": "code",
   "execution_count": 22,
   "metadata": {},
   "outputs": [],
   "source": [
    "TEXT.build_vocab(train_data, max_size=VOCABULARY_SIZE)\n",
    "LABEL.build_vocab(train_data)\n",
    "\n",
    "#print(f'Vocabulary size: {len(TEXT.vocab)}')\n",
    "#print(f'Number of classes: {len(LABEL.vocab)}')"
   ]
  },
  {
   "cell_type": "code",
   "execution_count": 23,
   "metadata": {},
   "outputs": [],
   "source": [
    "train_loader, valid_loader, test_loader = \\\n",
    "    torchtext.legacy.data.BucketIterator.splits(\n",
    "        (train_data, valid_data, test_data),\n",
    "        batch_size=BATCH_SIZE_RNN,\n",
    "        #sort_within_batch=True,\n",
    "        sort_key=lambda x: len(x.CleanTweet),\n",
    "        sort=False,\n",
    "        shuffle=False,\n",
    "        device=DEVICE\n",
    "    )"
   ]
  },
  {
   "cell_type": "markdown",
   "metadata": {},
   "source": [
    "Utility functions"
   ]
  },
  {
   "cell_type": "code",
   "execution_count": 24,
   "metadata": {},
   "outputs": [],
   "source": [
    "def get_accuracy1(model, data_loader, device):\n",
    "    \n",
    "    with torch.no_grad():\n",
    "        correct_pred, num_examples = 0, 0\n",
    "        for _, (features, targets) in enumerate(data_loader):\n",
    "            features = features.to(device)\n",
    "            targets = targets.to(device)\n",
    "\n",
    "            logits = model(features)\n",
    "            _, predicted_labels = torch.max(logits, 1)\n",
    "            \n",
    "            num_examples += targets.size(0)\n",
    "            correct_pred += (predicted_labels == targets).sum()\n",
    "    \n",
    "    return correct_pred.float() / num_examples * 100"
   ]
  },
  {
   "cell_type": "code",
   "execution_count": 25,
   "metadata": {},
   "outputs": [],
   "source": [
    "def train(model, NUM_EPOCHS, train_loader, valid_loader, test_loader):\n",
    "    start_time = time.time()\n",
    "\n",
    "    for epoch in range(NUM_EPOCHS):\n",
    "        model.train()\n",
    "        \n",
    "        for batch_idx, batch_data in enumerate(train_loader):\n",
    "            text = batch_data.CleanTweet.to(DEVICE)\n",
    "            labels = batch_data.Sentiment.to(DEVICE)\n",
    "\n",
    "            # forward\n",
    "            logits = model(text)\n",
    "            loss = F.cross_entropy(logits, labels)\n",
    "            optimizer.zero_grad()\n",
    "\n",
    "            # back propogation\n",
    "            loss.backward()\n",
    "\n",
    "            # update parameters\n",
    "            optimizer.step()\n",
    "        \n",
    "        with torch.set_grad_enabled(False):\n",
    "            print(\n",
    "                f'Epoch: {epoch}\\n'\n",
    "                f'training accuracy: '\n",
    "                f'{get_accuracy1(model, train_loader, DEVICE):.2f}%'\n",
    "                f'\\nvalid accuracy: '\n",
    "                f'{get_accuracy1(model, valid_loader, DEVICE):.2f}%'\n",
    "            )\n",
    "\n",
    "        print(f'Time elapsed: {(time.time() - start_time)/60:.2f} min')\n",
    "\n",
    "    print(f'Total Training Time: {(time.time() - start_time)/60:.2f} min')\n",
    "    print(f'Test accuracy: {get_accuracy1(model, test_loader, DEVICE):.2f}%')"
   ]
  },
  {
   "cell_type": "code",
   "execution_count": 26,
   "metadata": {},
   "outputs": [],
   "source": [
    "# Prediction\n",
    "def prediction(model, test_loader):\n",
    "    test_pred = []\n",
    "\n",
    "    with torch.no_grad():       \n",
    "        for _, (features, targets) in enumerate(test_loader):\n",
    "            features = features.to(DEVICE)\n",
    "            targets = targets.to(DEVICE)\n",
    "\n",
    "            logits = model(features)\n",
    "            _, predicted_labels = torch.max(logits, 1)\n",
    "            test_pred.extend(predicted_labels.cpu().detach().numpy().tolist())\n",
    "\n",
    "    return test_pred"
   ]
  },
  {
   "cell_type": "code",
   "execution_count": 27,
   "metadata": {},
   "outputs": [],
   "source": [
    "# Plot the confusion matrix and print out evaluation metrics\n",
    "def eval_metrics(y_test, y_pred):\n",
    "    labels = ['Extremely Negative', 'Negative', 'Neutral', 'Positive', 'Extremely Positive']\n",
    "    cf_matrix = confusion_matrix(y_test, y_pred)\n",
    "    cf_matrix = pd.DataFrame(cf_matrix, index = labels, columns = labels)\n",
    "    plt.figure(figsize = (10,7))\n",
    "    sns.heatmap(cf_matrix, annot=True, cmap=\"Blues\")\n",
    "    report = classification_report(y_pred, y_test)\n",
    "    print(report)"
   ]
  },
  {
   "cell_type": "markdown",
   "metadata": {},
   "source": [
    "#### 2.1 RNN"
   ]
  },
  {
   "cell_type": "code",
   "execution_count": 28,
   "metadata": {},
   "outputs": [],
   "source": [
    "class tweetRNN(nn.Module):\n",
    "    def __init__(self, input_dim, embed_dim, hidden_dim, num_classes):\n",
    "        super().__init__()\n",
    "\n",
    "        self.hidden_dim = hidden_dim\n",
    "        self.embedding = nn.Embedding(input_dim, embed_dim)  \n",
    "        self.rnn = nn.RNN(embed_dim, hidden_dim, nonlinearity='relu')\n",
    "                \n",
    "        self.fc1 = nn.Linear(hidden_dim, hidden_dim)\n",
    "        self.relu = nn.ReLU()\n",
    "        self.dropout = nn.Dropout(0.5)\n",
    "        self.fc2 = nn.Linear(hidden_dim, num_classes)\n",
    "\n",
    "    \n",
    "    def forward(self, text):\n",
    "\n",
    "        # text dim: [sentence length, batch size]\n",
    "        text_embedded = self.embedding(text)\n",
    "        # embedded dim: [sentence length, batch size, embedding dim]\n",
    "\n",
    "        out, hidden = self.rnn(text_embedded)\n",
    "        # out dim: [sentence length, batch size, hidden dim]\n",
    "        # hidden dim: [1, batch size, hidden dim]\n",
    "        \n",
    "        hidden.squeeze_(0)\n",
    "        # hidden dim: [batch size, hidden dim]\n",
    "        hidden = self.dropout(hidden)\n",
    "        out = self.fc1(hidden)\n",
    "        out = self.relu(out)\n",
    "        out = self.dropout(out)\n",
    "        out = self.fc2(out)\n",
    "        return out"
   ]
  },
  {
   "cell_type": "code",
   "execution_count": 29,
   "metadata": {},
   "outputs": [],
   "source": [
    "torch.manual_seed(RANDOM_SEED)\n",
    "\n",
    "model_rnn = tweetRNN(input_dim=len(TEXT.vocab), embed_dim=EMBEDDING_DIM,\n",
    "                     hidden_dim=HIDDEN_DIM, num_classes=NUM_CLASSES)\n",
    "model_rnn = model_rnn.to(DEVICE)\n",
    "optimizer = torch.optim.Adam(model_rnn.parameters(), lr=LEARNING_RATE)"
   ]
  },
  {
   "cell_type": "code",
   "execution_count": 30,
   "metadata": {},
   "outputs": [
    {
     "name": "stdout",
     "output_type": "stream",
     "text": [
      "Epoch: 0\n",
      "training accuracy: 27.75%\n",
      "valid accuracy: 27.77%\n",
      "Time elapsed: 0.15 min\n",
      "Epoch: 1\n",
      "training accuracy: 27.83%\n",
      "valid accuracy: 27.85%\n",
      "Time elapsed: 0.30 min\n",
      "Epoch: 2\n",
      "training accuracy: 27.97%\n",
      "valid accuracy: 27.82%\n",
      "Time elapsed: 0.45 min\n",
      "Epoch: 3\n",
      "training accuracy: 27.94%\n",
      "valid accuracy: 27.75%\n",
      "Time elapsed: 0.59 min\n",
      "Epoch: 4\n",
      "training accuracy: 28.16%\n",
      "valid accuracy: 27.99%\n",
      "Time elapsed: 0.74 min\n",
      "Epoch: 5\n",
      "training accuracy: 28.15%\n",
      "valid accuracy: 28.14%\n",
      "Time elapsed: 0.89 min\n",
      "Epoch: 6\n",
      "training accuracy: 28.17%\n",
      "valid accuracy: 28.14%\n",
      "Time elapsed: 1.02 min\n",
      "Epoch: 7\n",
      "training accuracy: 28.15%\n",
      "valid accuracy: 27.80%\n",
      "Time elapsed: 1.15 min\n",
      "Epoch: 8\n",
      "training accuracy: 28.16%\n",
      "valid accuracy: 27.75%\n",
      "Time elapsed: 1.28 min\n",
      "Epoch: 9\n",
      "training accuracy: 28.21%\n",
      "valid accuracy: 27.97%\n",
      "Time elapsed: 1.40 min\n",
      "Total Training Time: 1.40 min\n",
      "Test accuracy: 24.79%\n"
     ]
    }
   ],
   "source": [
    "train(model_rnn, NUM_EPOCHS_RNN, train_loader, valid_loader, test_loader)"
   ]
  },
  {
   "cell_type": "code",
   "execution_count": 31,
   "metadata": {},
   "outputs": [],
   "source": [
    "# Save and load the trained model\n",
    "torch.save(model_rnn.state_dict(), 'saved_data/model_rnn.pt')\n",
    "torch.save(optimizer.state_dict(), 'saved_data/optimizer_rnn.pt')\n",
    "\n",
    "#model_rnn.load_state_dict(torch.load('saved_data/model_rnn.pt'))\n",
    "#optimizer.load_state_dict(torch.load('saved_data/optimizer_rnn.pt'))"
   ]
  },
  {
   "cell_type": "code",
   "execution_count": 32,
   "metadata": {},
   "outputs": [
    {
     "name": "stdout",
     "output_type": "stream",
     "text": [
      "              precision    recall  f1-score   support\n",
      "\n",
      "           0       0.97      0.15      0.27      3723\n",
      "           1       0.01      0.33      0.02        39\n",
      "           2       0.00      0.00      0.00         0\n",
      "           3       0.00      0.29      0.01        14\n",
      "           4       0.00      0.05      0.00        20\n",
      "\n",
      "    accuracy                           0.16      3796\n",
      "   macro avg       0.20      0.16      0.06      3796\n",
      "weighted avg       0.95      0.16      0.26      3796\n",
      "\n"
     ]
    },
    {
     "name": "stderr",
     "output_type": "stream",
     "text": [
      "C:\\Users\\ljg08\\AppData\\Local\\Programs\\Python\\Python39\\lib\\site-packages\\sklearn\\metrics\\_classification.py:1308: UndefinedMetricWarning: Recall and F-score are ill-defined and being set to 0.0 in labels with no true samples. Use `zero_division` parameter to control this behavior.\n",
      "  _warn_prf(average, modifier, msg_start, len(result))\n",
      "C:\\Users\\ljg08\\AppData\\Local\\Programs\\Python\\Python39\\lib\\site-packages\\sklearn\\metrics\\_classification.py:1308: UndefinedMetricWarning: Recall and F-score are ill-defined and being set to 0.0 in labels with no true samples. Use `zero_division` parameter to control this behavior.\n",
      "  _warn_prf(average, modifier, msg_start, len(result))\n",
      "C:\\Users\\ljg08\\AppData\\Local\\Programs\\Python\\Python39\\lib\\site-packages\\sklearn\\metrics\\_classification.py:1308: UndefinedMetricWarning: Recall and F-score are ill-defined and being set to 0.0 in labels with no true samples. Use `zero_division` parameter to control this behavior.\n",
      "  _warn_prf(average, modifier, msg_start, len(result))\n"
     ]
    },
    {
     "data": {
      "image/png": "[encoded data removed]",
      "text/plain": [
       "<Figure size 720x504 with 2 Axes>"
      ]
     },
     "metadata": {},
     "output_type": "display_data"
    }
   ],
   "source": [
    "y_test = data_te['Sentiment'].tolist()\n",
    "y_pred = prediction(model_rnn, test_loader) \n",
    "eval_metrics(y_test, y_pred)"
   ]
  },
  {
   "cell_type": "markdown",
   "metadata": {},
   "source": [
    "#### 2.2 LSTM"
   ]
  },
  {
   "cell_type": "code",
   "execution_count": 33,
   "metadata": {},
   "outputs": [],
   "source": [
    "class tweetLSTM(nn.Module):\n",
    "    def __init__(self, input_dim, embed_dim, hidden_dim, num_classes):\n",
    "        super().__init__()\n",
    "\n",
    "        self.hidden_dim = hidden_dim\n",
    "        self.embedding = nn.Embedding(input_dim, embed_dim)\n",
    "        self.rnn = nn.LSTM(embed_dim, hidden_dim)\n",
    "        \n",
    "        self.fc1 = nn.Linear(hidden_dim, hidden_dim)\n",
    "        self.relu = nn.ReLU()\n",
    "        self.dropout = nn.Dropout(0.5)\n",
    "        self.fc2 = nn.Linear(hidden_dim, num_classes)\n",
    "\n",
    "    \n",
    "    def forward(self, text):\n",
    "\n",
    "        # text dim: [sentence length, batch size]\n",
    "        text_embedded = self.embedding(text)\n",
    "        # embedded dim: [sentence length, batch size, embedding dim]\n",
    "\n",
    "        out, (hidden, cell) = self.rnn(text_embedded)\n",
    "        # out dim: [sentence length, batch size, hidden dim]\n",
    "        # hidden dim: [1, batch size, hidden dim]\n",
    "        \n",
    "        hidden.squeeze_(0)\n",
    "        # hidden dim: [batch size, hidden dim]\n",
    "        hidden = self.dropout(hidden)\n",
    "        out = self.fc1(hidden)\n",
    "        out = self.relu(out)\n",
    "        out = self.dropout(out)\n",
    "        out = self.fc2(out)\n",
    "        return out"
   ]
  },
  {
   "cell_type": "code",
   "execution_count": 34,
   "metadata": {},
   "outputs": [],
   "source": [
    "torch.manual_seed(RANDOM_SEED)\n",
    "\n",
    "model_lstm = tweetLSTM(input_dim=len(TEXT.vocab), embed_dim=EMBEDDING_DIM,\n",
    "                       hidden_dim=HIDDEN_DIM, num_classes=NUM_CLASSES)\n",
    "model_lstm = model_lstm.to(DEVICE)\n",
    "optimizer = torch.optim.Adam(model_lstm.parameters(), lr=LEARNING_RATE)"
   ]
  },
  {
   "cell_type": "code",
   "execution_count": 35,
   "metadata": {},
   "outputs": [
    {
     "name": "stdout",
     "output_type": "stream",
     "text": [
      "Epoch: 0\n",
      "training accuracy: 37.71%\n",
      "valid accuracy: 36.77%\n",
      "Time elapsed: 0.18 min\n",
      "Epoch: 1\n",
      "training accuracy: 68.16%\n",
      "valid accuracy: 64.57%\n",
      "Time elapsed: 0.35 min\n",
      "Epoch: 2\n",
      "training accuracy: 79.80%\n",
      "valid accuracy: 72.59%\n",
      "Time elapsed: 0.53 min\n",
      "Epoch: 3\n",
      "training accuracy: 84.74%\n",
      "valid accuracy: 73.39%\n",
      "Time elapsed: 0.71 min\n",
      "Epoch: 4\n",
      "training accuracy: 87.65%\n",
      "valid accuracy: 73.71%\n",
      "Time elapsed: 0.88 min\n",
      "Epoch: 5\n",
      "training accuracy: 91.06%\n",
      "valid accuracy: 75.51%\n",
      "Time elapsed: 1.06 min\n",
      "Epoch: 6\n",
      "training accuracy: 92.12%\n",
      "valid accuracy: 74.25%\n",
      "Time elapsed: 1.23 min\n",
      "Epoch: 7\n",
      "training accuracy: 92.49%\n",
      "valid accuracy: 74.32%\n",
      "Time elapsed: 1.41 min\n",
      "Epoch: 8\n",
      "training accuracy: 93.55%\n",
      "valid accuracy: 75.05%\n",
      "Time elapsed: 1.59 min\n",
      "Epoch: 9\n",
      "training accuracy: 94.52%\n",
      "valid accuracy: 74.71%\n",
      "Time elapsed: 1.76 min\n",
      "Total Training Time: 1.76 min\n",
      "Test accuracy: 72.52%\n"
     ]
    }
   ],
   "source": [
    "train(model_lstm, NUM_EPOCHS_RNN, train_loader, valid_loader, test_loader)"
   ]
  },
  {
   "cell_type": "code",
   "execution_count": 36,
   "metadata": {},
   "outputs": [],
   "source": [
    "# Save and load the trained model\n",
    "torch.save(model_lstm.state_dict(), 'saved_data/model_lstm.pt')\n",
    "torch.save(optimizer.state_dict(), 'saved_data/optimizer_lstm.pt')\n",
    "\n",
    "#model_lstm.load_state_dict(torch.load('saved_data/model_lstm.pt'))\n",
    "#optimizer.load_state_dict(torch.load('saved_data/optimizer_lstm.pt'))"
   ]
  },
  {
   "cell_type": "code",
   "execution_count": 37,
   "metadata": {},
   "outputs": [
    {
     "name": "stdout",
     "output_type": "stream",
     "text": [
      "              precision    recall  f1-score   support\n",
      "\n",
      "           0       0.01      0.01      0.01       935\n",
      "           1       0.73      0.66      0.69      1158\n",
      "           2       0.78      0.77      0.78       626\n",
      "           3       0.09      0.16      0.11       523\n",
      "           4       0.00      0.00      0.00       554\n",
      "\n",
      "    accuracy                           0.35      3796\n",
      "   macro avg       0.32      0.32      0.32      3796\n",
      "weighted avg       0.37      0.35      0.36      3796\n",
      "\n"
     ]
    },
    {
     "data": {
      "image/png": "[encoded data removed]",
      "text/plain": [
       "<Figure size 720x504 with 2 Axes>"
      ]
     },
     "metadata": {},
     "output_type": "display_data"
    }
   ],
   "source": [
    "y_test = data_te['Sentiment'].tolist()\n",
    "y_pred = prediction(model_lstm, test_loader) \n",
    "eval_metrics(y_test, y_pred)"
   ]
  },
  {
   "cell_type": "markdown",
   "metadata": {},
   "source": [
    "#### 2.3 Bidrectional LSTM"
   ]
  },
  {
   "cell_type": "code",
   "execution_count": 38,
   "metadata": {},
   "outputs": [],
   "source": [
    "class tweetBiLSTM(nn.Module):\n",
    "    def __init__(self, input_dim, embed_dim, hidden_dim, num_classes):\n",
    "        super().__init__()\n",
    "\n",
    "        self.hidden_dim = hidden_dim\n",
    "        self.embedding = nn.Embedding(input_dim, embed_dim)\n",
    "        self.rnn = nn.LSTM(embed_dim, hidden_dim, bidirectional=True)\n",
    "        \n",
    "        self.fc1 = nn.Linear(2*hidden_dim, hidden_dim)\n",
    "        self.relu = nn.ReLU()\n",
    "        self.dropout = nn.Dropout(0.5)\n",
    "        self.fc2 = nn.Linear(hidden_dim, num_classes)\n",
    "\n",
    "    \n",
    "    def forward(self, text):\n",
    "\n",
    "        # text dim: [sentence length, batch size]\n",
    "        text_embedded = self.embedding(text)\n",
    "        # embedded dim: [sentence length, batch size, embedding dim]\n",
    "\n",
    "        # out, hidden = self.rnn(text_embedded)\n",
    "        out, (hidden, cell) = self.rnn(text_embedded)\n",
    "        # out dim: [sentence length, batch size, 2*hidden dim]\n",
    "        # hidden dim: [2, batch size, hidden dim]\n",
    "        \n",
    "        hidden = torch.cat([hidden[0,:,:], hidden[1,:,:]],dim=1).squeeze_(0)\n",
    "        # hidden dim: [batch size, hidden dim]\n",
    "        hidden = self.dropout(hidden)\n",
    "        out = self.fc1(hidden)\n",
    "        out = self.relu(out)\n",
    "        out = self.dropout(out)\n",
    "        out = self.fc2(out)\n",
    "        return out"
   ]
  },
  {
   "cell_type": "code",
   "execution_count": 39,
   "metadata": {},
   "outputs": [],
   "source": [
    "torch.manual_seed(RANDOM_SEED)\n",
    "\n",
    "model_bilstm = tweetBiLSTM(input_dim=len(TEXT.vocab), embed_dim=EMBEDDING_DIM,\n",
    "                           hidden_dim=HIDDEN_DIM, num_classes=NUM_CLASSES)\n",
    "model_bilstm = model_bilstm.to(DEVICE)\n",
    "optimizer = torch.optim.Adam(model_bilstm.parameters(), lr=LEARNING_RATE)"
   ]
  },
  {
   "cell_type": "code",
   "execution_count": 40,
   "metadata": {},
   "outputs": [
    {
     "name": "stdout",
     "output_type": "stream",
     "text": [
      "Epoch: 0\n",
      "training accuracy: 63.35%\n",
      "valid accuracy: 58.85%\n",
      "Time elapsed: 0.25 min\n",
      "Epoch: 1\n",
      "training accuracy: 77.28%\n",
      "valid accuracy: 70.77%\n",
      "Time elapsed: 0.50 min\n",
      "Epoch: 2\n",
      "training accuracy: 83.76%\n",
      "valid accuracy: 75.39%\n",
      "Time elapsed: 0.75 min\n",
      "Epoch: 3\n",
      "training accuracy: 87.27%\n",
      "valid accuracy: 76.00%\n",
      "Time elapsed: 1.00 min\n",
      "Epoch: 4\n",
      "training accuracy: 89.56%\n",
      "valid accuracy: 76.85%\n",
      "Time elapsed: 1.25 min\n",
      "Epoch: 5\n",
      "training accuracy: 92.05%\n",
      "valid accuracy: 76.65%\n",
      "Time elapsed: 1.51 min\n",
      "Epoch: 6\n",
      "training accuracy: 92.67%\n",
      "valid accuracy: 76.12%\n",
      "Time elapsed: 1.76 min\n",
      "Epoch: 7\n",
      "training accuracy: 93.02%\n",
      "valid accuracy: 75.83%\n",
      "Time elapsed: 2.01 min\n",
      "Epoch: 8\n",
      "training accuracy: 94.28%\n",
      "valid accuracy: 77.14%\n",
      "Time elapsed: 2.26 min\n",
      "Epoch: 9\n",
      "training accuracy: 95.07%\n",
      "valid accuracy: 76.31%\n",
      "Time elapsed: 2.51 min\n",
      "Total Training Time: 2.51 min\n",
      "Test accuracy: 74.00%\n"
     ]
    }
   ],
   "source": [
    "train(model_bilstm, NUM_EPOCHS_RNN, train_loader, valid_loader, test_loader)"
   ]
  },
  {
   "cell_type": "code",
   "execution_count": 41,
   "metadata": {},
   "outputs": [],
   "source": [
    "# Save and load the trained model\n",
    "torch.save(model_bilstm.state_dict(), 'saved_data/model_bilstm.pt')\n",
    "torch.save(optimizer.state_dict(), 'saved_data/optimizer_bilstm.pt')\n",
    "\n",
    "#model_bilsm.load_state_dict(torch.load('saved_data/model_bilstm.pt'))\n",
    "#optimizer.load_state_dict(torch.load('saved_data/optimizer_bilstm.pt'))"
   ]
  },
  {
   "cell_type": "code",
   "execution_count": 42,
   "metadata": {},
   "outputs": [
    {
     "name": "stdout",
     "output_type": "stream",
     "text": [
      "              precision    recall  f1-score   support\n",
      "\n",
      "           0       0.02      0.01      0.01      1008\n",
      "           1       0.71      0.69      0.70      1064\n",
      "           2       0.75      0.84      0.80       555\n",
      "           3       0.10      0.17      0.13       567\n",
      "           4       0.01      0.00      0.00       602\n",
      "\n",
      "    accuracy                           0.35      3796\n",
      "   macro avg       0.32      0.34      0.33      3796\n",
      "weighted avg       0.33      0.35      0.34      3796\n",
      "\n"
     ]
    },
    {
     "data": {
      "image/png": "[encoded data removed]",
      "text/plain": [
       "<Figure size 720x504 with 2 Axes>"
      ]
     },
     "metadata": {},
     "output_type": "display_data"
    }
   ],
   "source": [
    "y_test = data_te['Sentiment'].tolist()\n",
    "y_pred = prediction(model_bilstm, test_loader) \n",
    "eval_metrics(y_test, y_pred)"
   ]
  },
  {
   "cell_type": "markdown",
   "metadata": {},
   "source": [
    "### 3. DistilBERT"
   ]
  },
  {
   "cell_type": "code",
   "execution_count": 49,
   "metadata": {},
   "outputs": [],
   "source": [
    "data_tr = pd.read_csv('train_data.csv')\n",
    "data_val = pd.read_csv('val_data.csv')\n",
    "data_te = pd.read_csv('test_data.csv')"
   ]
  },
  {
   "cell_type": "code",
   "execution_count": 43,
   "metadata": {},
   "outputs": [],
   "source": [
    "train_text = data_tr['CleanTweet'].values\n",
    "train_labels = data_tr['Sentiment'].values\n",
    "\n",
    "valid_text = data_val['CleanTweet'].values\n",
    "valid_labels = data_val['Sentiment'].values\n",
    "\n",
    "test_text = data_te['CleanTweet'].values\n",
    "test_labels = data_te['Sentiment'].values"
   ]
  },
  {
   "cell_type": "markdown",
   "metadata": {},
   "source": [
    "Apply the DistilBert tokenizer"
   ]
  },
  {
   "cell_type": "code",
   "execution_count": 44,
   "metadata": {},
   "outputs": [],
   "source": [
    "tokenizer = DistilBertTokenizerFast.from_pretrained('distilbert-base-uncased')"
   ]
  },
  {
   "cell_type": "code",
   "execution_count": 45,
   "metadata": {},
   "outputs": [],
   "source": [
    "train_encodings = tokenizer(list(train_text), truncation=True, padding=True)\n",
    "valid_encodings = tokenizer(list(valid_text), truncation=True, padding=True)\n",
    "test_encodings = tokenizer(list(test_text), truncation=True, padding=True)"
   ]
  },
  {
   "cell_type": "markdown",
   "metadata": {},
   "source": [
    "Prepare the dataset and the dataloader"
   ]
  },
  {
   "cell_type": "code",
   "execution_count": 46,
   "metadata": {},
   "outputs": [],
   "source": [
    "class tweetBERT_dataset(torch.utils.data.Dataset):\n",
    "    def __init__(self, encodings, labels):\n",
    "        self.encodings = encodings\n",
    "        self.labels = labels\n",
    "\n",
    "    def __getitem__(self, idx):\n",
    "        item = {key: torch.tensor(val[idx]) for key, val in self.encodings.items()}\n",
    "        item['labels'] = torch.tensor(self.labels[idx])\n",
    "        return item\n",
    "\n",
    "    def __len__(self):\n",
    "        return len(self.labels)\n",
    "\n",
    "\n",
    "train_dataset = tweetBERT_dataset(train_encodings, train_labels)\n",
    "valid_dataset = tweetBERT_dataset(valid_encodings, valid_labels)\n",
    "test_dataset = tweetBERT_dataset(test_encodings, test_labels)"
   ]
  },
  {
   "cell_type": "code",
   "execution_count": 48,
   "metadata": {},
   "outputs": [],
   "source": [
    "train_loader = torch.utils.data.DataLoader(train_dataset, batch_size=BATCH_SIZE_BERT, shuffle=True)\n",
    "valid_loader = torch.utils.data.DataLoader(valid_dataset, batch_size=BATCH_SIZE_BERT, shuffle=False)\n",
    "test_loader = torch.utils.data.DataLoader(test_dataset, batch_size=BATCH_SIZE_BERT, shuffle=False)"
   ]
  },
  {
   "cell_type": "markdown",
   "metadata": {},
   "source": [
    "Training"
   ]
  },
  {
   "cell_type": "code",
   "execution_count": 52,
   "metadata": {},
   "outputs": [
    {
     "name": "stderr",
     "output_type": "stream",
     "text": [
      "Some weights of the model checkpoint at distilbert-base-uncased were not used when initializing DistilBertForSequenceClassification: ['vocab_transform.weight', 'vocab_layer_norm.bias', 'vocab_projector.weight', 'vocab_transform.bias', 'vocab_layer_norm.weight', 'vocab_projector.bias']\n",
      "- This IS expected if you are initializing DistilBertForSequenceClassification from the checkpoint of a model trained on another task or with another architecture (e.g. initializing a BertForSequenceClassification model from a BertForPreTraining model).\n",
      "- This IS NOT expected if you are initializing DistilBertForSequenceClassification from the checkpoint of a model that you expect to be exactly identical (initializing a BertForSequenceClassification model from a BertForSequenceClassification model).\n",
      "Some weights of DistilBertForSequenceClassification were not initialized from the model checkpoint at distilbert-base-uncased and are newly initialized: ['classifier.weight', 'pre_classifier.bias', 'classifier.bias', 'pre_classifier.weight']\n",
      "You should probably TRAIN this model on a down-stream task to be able to use it for predictions and inference.\n"
     ]
    }
   ],
   "source": [
    "model_distilBERT = DistilBertForSequenceClassification.from_pretrained('distilbert-base-uncased', num_labels=5)\n",
    "model_distilBERT.to(DEVICE)\n",
    "model_distilBERT.train()\n",
    "\n",
    "optim = torch.optim.Adam(model_distilBERT.parameters(), lr=5e-5)"
   ]
  },
  {
   "cell_type": "code",
   "execution_count": 53,
   "metadata": {},
   "outputs": [],
   "source": [
    "def get_accuracy2(model, data_loader, device):\n",
    "    \n",
    "    with torch.no_grad():\n",
    "        correct_pred, num_examples = 0, 0\n",
    "        for batch_idx, batch in enumerate(data_loader):\n",
    "            input_ids = batch['input_ids'].to(device)\n",
    "            attention_mask = batch['attention_mask'].to(device)\n",
    "            labels = batch['labels'].to(device)\n",
    "\n",
    "            outputs = model(input_ids, attention_mask=attention_mask, labels=labels)\n",
    "            loss, logits = outputs['loss'], outputs['logits']\n",
    "            _, predicted_labels = torch.max(logits, 1)\n",
    "            \n",
    "            num_examples += labels.size(0)\n",
    "            correct_pred += (predicted_labels == labels).sum()\n",
    "    \n",
    "    return correct_pred.float() / num_examples * 100"
   ]
  },
  {
   "cell_type": "code",
   "execution_count": 54,
   "metadata": {},
   "outputs": [
    {
     "name": "stdout",
     "output_type": "stream",
     "text": [
      "Epoch: 0001/0005 | Batch 0000/2314 | Loss: 1.6341\n",
      "Epoch: 0001/0005 | Batch 0250/2314 | Loss: 0.7258\n",
      "Epoch: 0001/0005 | Batch 0500/2314 | Loss: 0.6880\n",
      "Epoch: 0001/0005 | Batch 0750/2314 | Loss: 0.6828\n",
      "Epoch: 0001/0005 | Batch 1000/2314 | Loss: 0.7094\n",
      "Epoch: 0001/0005 | Batch 1250/2314 | Loss: 0.5390\n",
      "Epoch: 0001/0005 | Batch 1500/2314 | Loss: 0.9157\n",
      "Epoch: 0001/0005 | Batch 1750/2314 | Loss: 0.4358\n",
      "Epoch: 0001/0005 | Batch 2000/2314 | Loss: 0.1470\n",
      "Epoch: 0001/0005 | Batch 2250/2314 | Loss: 0.5091\n",
      "training accuracy: 84.13%\n",
      "valid accuracy: 80.45%\n",
      "Time elapsed: 10.82 min\n",
      "Epoch: 0002/0005 | Batch 0000/2314 | Loss: 0.6047\n",
      "Epoch: 0002/0005 | Batch 0250/2314 | Loss: 0.4185\n",
      "Epoch: 0002/0005 | Batch 0500/2314 | Loss: 0.5216\n",
      "Epoch: 0002/0005 | Batch 0750/2314 | Loss: 0.2476\n",
      "Epoch: 0002/0005 | Batch 1000/2314 | Loss: 0.3781\n",
      "Epoch: 0002/0005 | Batch 1250/2314 | Loss: 0.1805\n",
      "Epoch: 0002/0005 | Batch 1500/2314 | Loss: 0.6171\n",
      "Epoch: 0002/0005 | Batch 1750/2314 | Loss: 0.2857\n",
      "Epoch: 0002/0005 | Batch 2000/2314 | Loss: 0.3031\n",
      "Epoch: 0002/0005 | Batch 2250/2314 | Loss: 0.2792\n",
      "training accuracy: 92.08%\n",
      "valid accuracy: 85.26%\n",
      "Time elapsed: 21.55 min\n",
      "Epoch: 0003/0005 | Batch 0000/2314 | Loss: 0.5568\n",
      "Epoch: 0003/0005 | Batch 0250/2314 | Loss: 0.2655\n",
      "Epoch: 0003/0005 | Batch 0500/2314 | Loss: 0.2560\n",
      "Epoch: 0003/0005 | Batch 0750/2314 | Loss: 0.2568\n",
      "Epoch: 0003/0005 | Batch 1000/2314 | Loss: 0.4289\n",
      "Epoch: 0003/0005 | Batch 1250/2314 | Loss: 0.4910\n",
      "Epoch: 0003/0005 | Batch 1500/2314 | Loss: 0.2286\n",
      "Epoch: 0003/0005 | Batch 1750/2314 | Loss: 0.9458\n",
      "Epoch: 0003/0005 | Batch 2000/2314 | Loss: 0.1656\n",
      "Epoch: 0003/0005 | Batch 2250/2314 | Loss: 0.2028\n",
      "training accuracy: 94.81%\n",
      "valid accuracy: 85.00%\n",
      "Time elapsed: 32.27 min\n",
      "Epoch: 0004/0005 | Batch 0000/2314 | Loss: 0.0623\n",
      "Epoch: 0004/0005 | Batch 0250/2314 | Loss: 0.0467\n",
      "Epoch: 0004/0005 | Batch 0500/2314 | Loss: 0.0644\n",
      "Epoch: 0004/0005 | Batch 0750/2314 | Loss: 0.2999\n",
      "Epoch: 0004/0005 | Batch 1000/2314 | Loss: 0.0756\n",
      "Epoch: 0004/0005 | Batch 1250/2314 | Loss: 0.0492\n",
      "Epoch: 0004/0005 | Batch 1500/2314 | Loss: 0.0899\n",
      "Epoch: 0004/0005 | Batch 1750/2314 | Loss: 0.1090\n",
      "Epoch: 0004/0005 | Batch 2000/2314 | Loss: 0.1619\n",
      "Epoch: 0004/0005 | Batch 2250/2314 | Loss: 0.0532\n",
      "training accuracy: 95.71%\n",
      "valid accuracy: 85.24%\n",
      "Time elapsed: 43.00 min\n",
      "Epoch: 0005/0005 | Batch 0000/2314 | Loss: 0.4818\n",
      "Epoch: 0005/0005 | Batch 0250/2314 | Loss: 0.2088\n",
      "Epoch: 0005/0005 | Batch 0500/2314 | Loss: 0.1340\n",
      "Epoch: 0005/0005 | Batch 0750/2314 | Loss: 0.1339\n",
      "Epoch: 0005/0005 | Batch 1000/2314 | Loss: 0.0930\n",
      "Epoch: 0005/0005 | Batch 1250/2314 | Loss: 0.1519\n",
      "Epoch: 0005/0005 | Batch 1500/2314 | Loss: 0.0244\n",
      "Epoch: 0005/0005 | Batch 1750/2314 | Loss: 0.0400\n",
      "Epoch: 0005/0005 | Batch 2000/2314 | Loss: 0.0497\n",
      "Epoch: 0005/0005 | Batch 2250/2314 | Loss: 0.1865\n",
      "training accuracy: 97.00%\n",
      "valid accuracy: 84.97%\n",
      "Time elapsed: 53.72 min\n",
      "Total Training Time: 53.72 min\n",
      "Test accuracy: 83.32%\n"
     ]
    }
   ],
   "source": [
    "start_time = time.time()\n",
    "\n",
    "for epoch in range(NUM_EPOCHS_BERT):\n",
    "    \n",
    "    model_distilBERT.train()\n",
    "    \n",
    "    for batch_idx, batch in enumerate(train_loader):\n",
    "        \n",
    "        ### Prepare data\n",
    "        input_ids = batch['input_ids'].to(DEVICE)\n",
    "        attention_mask = batch['attention_mask'].to(DEVICE)\n",
    "        labels = batch['labels'].to(DEVICE)\n",
    "\n",
    "\n",
    "        ### Forward\n",
    "        outputs = model_distilBERT(input_ids, attention_mask=attention_mask, labels=labels)\n",
    "        loss, logits = outputs['loss'], outputs['logits']\n",
    "        \n",
    "        ### Backward\n",
    "        optim.zero_grad()\n",
    "        loss.backward()\n",
    "        optim.step()\n",
    "\n",
    "        ### Logging\n",
    "        if not batch_idx % 250:\n",
    "            print (f'Epoch: {epoch+1:04d}/{NUM_EPOCHS_BERT:04d} | '\n",
    "                   f'Batch {batch_idx:04d}/{len(train_loader):04d} | '\n",
    "                   f'Loss: {loss:.4f}')\n",
    "            \n",
    "    model_distilBERT.eval()\n",
    "\n",
    "    with torch.set_grad_enabled(False):\n",
    "        print(f'training accuracy: '\n",
    "              f'{get_accuracy2(model_distilBERT, train_loader, DEVICE):.2f}%'\n",
    "              f'\\nvalid accuracy: '\n",
    "              f'{get_accuracy2(model_distilBERT, valid_loader, DEVICE):.2f}%')\n",
    "        \n",
    "    print(f'Time elapsed: {(time.time() - start_time)/60:.2f} min')\n",
    "    \n",
    "print(f'Total Training Time: {(time.time() - start_time)/60:.2f} min')\n",
    "print(f'Test accuracy: {get_accuracy2(model_distilBERT, test_loader, DEVICE):.2f}%')"
   ]
  },
  {
   "cell_type": "code",
   "execution_count": 55,
   "metadata": {},
   "outputs": [],
   "source": [
    "# Save and load the trained model\n",
    "torch.save(model_distilBERT.state_dict(), 'saved_data/model_distilBERT.pt')\n",
    "torch.save(optimizer.state_dict(), 'saved_data/optimizer_distilBERT.pt')\n",
    "\n",
    "#model_distilBERT.load_state_dict(torch.load('saved_data/model_distilBERT.pt'))\n",
    "#optimizer.load_state_dict(torch.load('saved_data/optimizer_distilBERT.pt'))"
   ]
  },
  {
   "cell_type": "code",
   "execution_count": 56,
   "metadata": {},
   "outputs": [
    {
     "name": "stdout",
     "output_type": "stream",
     "text": [
      "              precision    recall  f1-score   support\n",
      "\n",
      "           0       0.75      0.92      0.83       480\n",
      "           1       0.86      0.79      0.82      1136\n",
      "           2       0.84      0.88      0.86       592\n",
      "           3       0.85      0.79      0.82      1016\n",
      "           4       0.84      0.88      0.86       572\n",
      "\n",
      "    accuracy                           0.83      3796\n",
      "   macro avg       0.83      0.85      0.84      3796\n",
      "weighted avg       0.84      0.83      0.83      3796\n",
      "\n"
     ]
    },
    {
     "data": {
      "image/png": "[encoded data removed]",
      "text/plain": [
       "<Figure size 720x504 with 2 Axes>"
      ]
     },
     "metadata": {},
     "output_type": "display_data"
    }
   ],
   "source": [
    "y_test = data_te['Sentiment'].tolist()\n",
    "\n",
    "test_pred = []\n",
    "with torch.no_grad():\n",
    "    for batch_idx, batch in enumerate(test_loader):\n",
    "        input_ids = batch['input_ids'].to(DEVICE)\n",
    "        attention_mask = batch['attention_mask'].to(DEVICE)\n",
    "        labels = batch['labels'].to(DEVICE)\n",
    "\n",
    "        outputs = model_distilBERT(input_ids, attention_mask=attention_mask, labels=labels)\n",
    "        loss, logits = outputs['loss'], outputs['logits']\n",
    "        _, predicted_labels = torch.max(logits, 1)\n",
    "        test_pred.extend(predicted_labels.cpu().detach().numpy().tolist())\n",
    "y_pred = test_pred \n",
    "\n",
    "eval_metrics(y_test, y_pred)"
   ]
  },
  {
   "cell_type": "code",
   "execution_count": null,
   "metadata": {},
   "outputs": [],
   "source": []
  }
 ],
 "metadata": {
  "kernelspec": {
   "display_name": "Python 3",
   "language": "python",
   "name": "python3"
  },
  "language_info": {
   "codemirror_mode": {
    "name": "ipython",
    "version": 3
   },
   "file_extension": ".py",
   "mimetype": "text/x-python",
   "name": "python",
   "nbconvert_exporter": "python",
   "pygments_lexer": "ipython3",
   "version": "3.9.8"
  }
 },
 "nbformat": 4,
 "nbformat_minor": 2
}
